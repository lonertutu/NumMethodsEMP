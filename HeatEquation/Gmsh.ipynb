{
 "cells": [
  {
   "cell_type": "code",
   "execution_count": 4,
   "id": "ef2c239e-5310-47d5-823d-cca82ca399e7",
   "metadata": {},
   "outputs": [],
   "source": [
    "import gmsh"
   ]
  },
  {
   "cell_type": "code",
   "execution_count": 34,
   "id": "50aeb09e-c1c4-4fe0-b5ba-6002f7266a3f",
   "metadata": {},
   "outputs": [],
   "source": [
    "gmsh.initialize()\n",
    "\n",
    "gmsh.model.add(\"Student's room\")\n",
    "\n",
    "# Параметры комнаты\n",
    "room_width = 3.8\n",
    "room_height = 3.1\n",
    "room_length = 5.6\n",
    "\n",
    "# Параметры окна\n",
    "window_width = 1.6\n",
    "window_length = 1.5\n",
    "window_offset = 1.4     # отступ окна от пола\n",
    "\n",
    "# Параметры батареи\n",
    "heater_width = 1.5\n",
    "heater_height = 1\n",
    "heater_depth = -0.14    # толщина батареи\n",
    "heater_offset = 0.2   # расстояние от пола до нижней части батареи\n",
    "\n",
    "room = gmsh.model.occ.addBox(0, 0, 0, room_width, room_length, room_height)\n",
    "x_window = (room_width - window_width) / 2\n",
    "y_window = room_length\n",
    "z_window = window_offset\n",
    "window = gmsh.model.occ.addBox(x_window, y_window, z_window, window_width, 0.1, window_height)\n",
    "\n",
    "\n",
    "x_heater = x_window + (window_width - heater_width) / 2  # центрирование батареи под окном\n",
    "y_heater = y_window\n",
    "z_heater = heater_offset\n",
    "heater = gmsh.model.occ.addBox(x_heater, y_heater, z_heater, heater_width, heater_depth, heater_height)\n",
    "\n",
    "gmsh.model.occ.cut([(3, room)], [(3, window)], removeTool=True)\n",
    "air_volume = gmsh.model.occ.cut([(3, room)], [(3, heater)], removeTool=True)\n",
    "gmsh.model.occ.synchronize()\n",
    "\n",
    "# Уменьшение размера сетки на радиаторе\n",
    "# Получаем все поверхности радиатора\n",
    "heater_surfaces = gmsh.model.getEntitiesInBoundingBox(x_heater, y_heater, z_heater,\n",
    "                                                      x_heater + heater_width, y_heater + heater_depth, z_heater + heater_height, 2)\n",
    "\n",
    "# Применение локального размера сетки на поверхности радиатора\n",
    "for surface in heater_surfaces:\n",
    "    gmsh.model.mesh.setSize([surface], 0.05)  # Установите желаемый размер сетки, например, 0.05\n",
    "gmsh.model.mesh.generate(3)\n",
    "\n",
    "gmsh.write(\"room_with_window_and_heater.vtk\")\n",
    "\n",
    "gmsh.finalize()"
   ]
  },
  {
   "cell_type": "code",
   "execution_count": null,
   "id": "2ed2b9f2-621f-46fb-8a7b-e174bde509fe",
   "metadata": {},
   "outputs": [],
   "source": []
  }
 ],
 "metadata": {
  "kernelspec": {
   "display_name": "Python 3 (ipykernel)",
   "language": "python",
   "name": "python3"
  },
  "language_info": {
   "codemirror_mode": {
    "name": "ipython",
    "version": 3
   },
   "file_extension": ".py",
   "mimetype": "text/x-python",
   "name": "python",
   "nbconvert_exporter": "python",
   "pygments_lexer": "ipython3",
   "version": "3.12.4"
  }
 },
 "nbformat": 4,
 "nbformat_minor": 5
}
