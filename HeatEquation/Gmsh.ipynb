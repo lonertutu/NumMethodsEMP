{
 "cells": [
  {
   "cell_type": "code",
   "id": "ef2c239e-5310-47d5-823d-cca82ca399e7",
   "metadata": {
    "ExecuteTime": {
     "end_time": "2024-11-06T08:35:49.443181Z",
     "start_time": "2024-11-06T08:35:49.348189Z"
    }
   },
   "source": [
    "import gmsh\n",
    "import numpy as np"
   ],
   "outputs": [],
   "execution_count": 3
  },
  {
   "cell_type": "code",
   "id": "50aeb09e-c1c4-4fe0-b5ba-6002f7266a3f",
   "metadata": {
    "ExecuteTime": {
     "end_time": "2024-11-06T14:35:23.657722Z",
     "start_time": "2024-11-06T14:35:23.540291Z"
    }
   },
   "source": [
    "gmsh.initialize()\n",
    "\n",
    "gmsh.model.add(\"Room\")\n",
    "'''\n",
    "Создание элементов комнаты\n",
    "'''\n",
    "# Параметры комнаты\n",
    "room_width = 3.8\n",
    "room_height = 3.1\n",
    "room_length = 5.6\n",
    "\n",
    "# Параметры окна\n",
    "window_width = 1.6\n",
    "window_height = 1.5\n",
    "window_offset = 1.4   # отступ окна от пола\n",
    "\n",
    "# Параметры батареи\n",
    "heater_width = 1.5\n",
    "heater_height = 1\n",
    "heater_depth = 0.14\n",
    "heater_offset = 0.2   # расстояние от пола до нижней части батареи\n",
    "\n",
    "room = gmsh.model.occ.addBox(0, 0, 0, room_width, room_length, room_height)\n",
    "\n",
    "x_window = (room_width - window_width) / 2\n",
    "y_window = room_length\n",
    "z_window = window_offset\n",
    "window_surface = gmsh.model.occ.addRectangle(x_window, y_window, z_window, window_width, window_height)\n",
    "gmsh.model.occ.rotate([(2,window_surface)], x_window, room_length, window_offset, 1, 0, 0, 90 * (np.pi / 180))\n",
    "\n",
    "x_heater = x_window + (window_width - heater_width) / 2\n",
    "y_heater = y_window - heater_depth\n",
    "z_heater = heater_offset\n",
    "heater = gmsh.model.occ.addBox(x_heater, y_heater, z_heater, heater_width, heater_depth, heater_height)\n",
    "gmsh.model.occ.synchronize()\n",
    "\n",
    "'''\n",
    "    Создание физических групп для задания граничных условий в решателе\n",
    "'''\n",
    "gmsh.model.addPhysicalGroup(2, [window_surface], tag=2)\n",
    "gmsh.model.setPhysicalName(2, 2, \"Window Surface\")\n",
    "\n",
    "gmsh.model.addPhysicalGroup(3, [heater], tag=3)\n",
    "gmsh.model.setPhysicalName(3, 3, \"Heater\")\n",
    "\n",
    "cut_result = gmsh.model.occ.cut([(3, room)], [(3, heater)], removeTool=False)\n",
    "gmsh.model.occ.synchronize() #обязательно делать эту операцию после вырезания, иначе не перестраивает сетку, может случится перекрытие сетки комнаты и батареи\n",
    "\n",
    "air_volume = cut_result[0][0][1]\n",
    "gmsh.model.addPhysicalGroup(3, [air_volume], tag=1)\n",
    "gmsh.model.setPhysicalName(3, 1, \"Air Volume\")\n",
    "gmsh.model.occ.synchronize()\n",
    "\n",
    "'''\n",
    "    Изменение размера сетки на локальных объектах.\n",
    "    :param Mesh.CharacteristicLengthMin - должно коррелировать с размером сетки батареи\n",
    "'''\n",
    "gmsh.option.setNumber(\"Mesh.CharacteristicLengthMin\", 0.1)\n",
    "gmsh.option.setNumber(\"Mesh.CharacteristicLengthMax\", 0.5)\n",
    "gmsh.model.occ.synchronize()\n",
    "heater_nodes = gmsh.model.getBoundary([(3, heater)], oriented=False, recursive=True)\n",
    "gmsh.model.mesh.setSize(heater_nodes, 0.1)\n",
    "\n",
    "gmsh.model.occ.synchronize()\n",
    "\n",
    "gmsh.model.mesh.generate(3)\n",
    "gmsh.write(\"room_with_refined_mesh_on_heater.msh2\")\n",
    "gmsh.write(\"room_with_refined_mesh_on_heater.vtk\")\n",
    "\n",
    "\n",
    "gmsh.finalize()"
   ],
   "outputs": [],
   "execution_count": 46
  },
  {
   "cell_type": "code",
   "execution_count": null,
   "id": "2ed2b9f2-621f-46fb-8a7b-e174bde509fe",
   "metadata": {},
   "outputs": [],
   "source": []
  }
 ],
 "metadata": {
  "kernelspec": {
   "display_name": "Python 3 (ipykernel)",
   "language": "python",
   "name": "python3"
  },
  "language_info": {
   "codemirror_mode": {
    "name": "ipython",
    "version": 3
   },
   "file_extension": ".py",
   "mimetype": "text/x-python",
   "name": "python",
   "nbconvert_exporter": "python",
   "pygments_lexer": "ipython3",
   "version": "3.12.4"
  }
 },
 "nbformat": 4,
 "nbformat_minor": 5
}
